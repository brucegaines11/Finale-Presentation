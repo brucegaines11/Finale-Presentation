{
  "nbformat": 4,
  "nbformat_minor": 0,
  "metadata": {
    "colab": {
      "provenance": [],
      "mount_file_id": "1EoKQzYvZAXEfqv42Iy8za_NzRdyibrOA",
      "authorship_tag": "ABX9TyMvZ4NPqM052QTF5Pe5+1kM",
      "include_colab_link": true
    },
    "kernelspec": {
      "name": "python3",
      "display_name": "Python 3"
    },
    "language_info": {
      "name": "python"
    }
  },
  "cells": [
    {
      "cell_type": "markdown",
      "metadata": {
        "id": "view-in-github",
        "colab_type": "text"
      },
      "source": [
        "<a href=\"https://colab.research.google.com/github/brucegaines11/Finale-Presentation/blob/main/Wild_cat_Distribution_Data.ipynb\" target=\"_parent\"><img src=\"https://colab.research.google.com/assets/colab-badge.svg\" alt=\"Open In Colab\"/></a>"
      ]
    },
    {
      "cell_type": "markdown",
      "source": [
        "Q1 & Q2 Descriptive Coding"
      ],
      "metadata": {
        "id": "LHMVBKD_YaHm"
      }
    },
    {
      "cell_type": "code",
      "execution_count": null,
      "metadata": {
        "id": "oyFX1G_0oV7P"
      },
      "outputs": [],
      "source": [
        "# import libraies"
      ]
    },
    {
      "cell_type": "code",
      "source": [
        "import pandas as pd\n",
        "movies = pd.read_csv('/content/drive/MyDrive/Colab Notebooks/CatClassifacation_list.numbers')"
      ],
      "metadata": {
        "id": "czrszufVv6hf"
      },
      "execution_count": null,
      "outputs": []
    },
    {
      "cell_type": "code",
      "source": [
        "[{\"stream\",\"stdout\",[\"Mounted at /content/drive\\n\"]}]"
      ],
      "metadata": {
        "id": "dNjSVNv1EbyH"
      },
      "execution_count": null,
      "outputs": []
    },
    {
      "cell_type": "code",
      "source": [
        "df = pd.read_csv (\"/content/drive/MyDrive/Colab Notebooks\")\n",
        "import pandas as pd\n",
        "pd.read_csv('/content/drive/MyDrive/Colab Notebooks/CatClassifacation_list.numbers')"
      ],
      "metadata": {
        "id": "UQIR-Q3pwU1R"
      },
      "execution_count": null,
      "outputs": []
    },
    {
      "cell_type": "code",
      "source": [
        "\"display_data\""
      ],
      "metadata": {
        "id": "6G12EyWXyo9g"
      },
      "execution_count": null,
      "outputs": []
    },
    {
      "cell_type": "code",
      "source": [
        "\"dataset1\".shape"
      ],
      "metadata": {
        "id": "fstzLofe2LVX"
      },
      "execution_count": null,
      "outputs": []
    },
    {
      "cell_type": "code",
      "source": [
        "df.columns=df.colums.str.lower()\n",
        "df"
      ],
      "metadata": {
        "id": "XjRcJEnu2Miv"
      },
      "execution_count": null,
      "outputs": []
    },
    {
      "cell_type": "code",
      "source": [
        "def mode (CatClassifacation_list)\n",
        "max_count = (0,0)\n",
        "for num in \"CatClassifacation_list\"\n",
        "total = \"total\" + num\n",
        "total / len(list)\n",
        "\n",
        "\"(print('mean([\"CatClassifacation_list\"]')\n"
      ],
      "metadata": {
        "id": "mZjVxis15I-Z"
      },
      "execution_count": null,
      "outputs": []
    },
    {
      "cell_type": "code",
      "source": [
        "def mode(CatClassifacation_list)\n",
        "max_count = (0,0)\n",
        "for num in CatClassifacation_list:\n",
        "  occurences = \"(CatClassifacationlist.count(1966)\"\n",
        "  if occurences > max_count[0]:\n",
        "    max_count = (occurences, )\n",
        "max_count:any\n",
        "print(mode([\"CatClassifacation_list\"]))\n"
      ],
      "metadata": {
        "id": "45rZ79H090MY"
      },
      "execution_count": null,
      "outputs": []
    },
    {
      "cell_type": "code",
      "source": [
        "\"median\"(CatClassifacation_list)\n",
        "\"CatClassifacation_list\" (\"if len(CatClassifacation_list) % 2 !=0:\")\n",
        "middle_index = int(len(\"CatClassifacation_list\")-1/2)\n",
        "\"CatClassifacation_list\"[middle_index]\n",
        "len(\"CatClassifacation_list\") % 2 == 0:\n",
        "middle_index_1 = int(len(\"CatClassifacation_list\")/2)\n",
        "middle_index_1 = int\n",
        "\"(len(\"CatClassifacation_list\")\n",
        "\n"
      ],
      "metadata": {
        "id": "qAbvMDAwAPS_"
      },
      "execution_count": null,
      "outputs": []
    },
    {
      "cell_type": "code",
      "source": [
        "import pandas as pd\n",
        "import matplotlib.pyplot as plt\n",
        "plt.style.use('ggplot')"
      ],
      "metadata": {
        "id": "MBjAQnLgTYaF"
      },
      "execution_count": null,
      "outputs": []
    },
    {
      "cell_type": "code",
      "source": [
        "df = pd.read('/content/drive/MyDrive/Colab Notebooks/CatClassifacation_list.numbers')\n",
        "df.groupby('title')['viewcount'].max()\\\n",
        ".sort_values(ascending=False) \\\n",
        ".head(10) \\\n",
        ".sort_values()\\\n",
        ".plot(Catbreed='Origin',figsize=(5,10),title='Wild Cat Classifacation list')\n",
        "\n",
        "plt.show()"
      ],
      "metadata": {
        "id": "mw6-EPgbT5eM"
      },
      "execution_count": null,
      "outputs": []
    },
    {
      "cell_type": "code",
      "source": [
        "#hue = 'year'\\n\",\"import plotly express as px\\n\",\"px.parallel_categories (df_since_2000[[ 'Year', 'Medal', 'Gender']J, color= 'Year' )\""
      ],
      "metadata": {
        "id": "v6YHpo0h24Ji"
      },
      "execution_count": null,
      "outputs": []
    },
    {
      "cell_type": "markdown",
      "source": [
        "Q3 & Q4 Descriptive Coding"
      ],
      "metadata": {
        "id": "OY9jX85OYo1v"
      }
    },
    {
      "cell_type": "code",
      "source": [
        "df = pd.read_csv\n",
        "\"(\"/content/drive/MyDrive/Colab Notebooks/CatClassifacation_list.numbers)\"\n",
        "\"df.head()\"\n"
      ],
      "metadata": {
        "id": "3FYIa9Va-aWo"
      },
      "execution_count": null,
      "outputs": []
    },
    {
      "cell_type": "code",
      "source": [
        "[{\"execute_result\"}]"
      ],
      "metadata": {
        "id": "XAZg7BhNfPLO"
      },
      "execution_count": null,
      "outputs": []
    },
    {
      "cell_type": "code",
      "source": [
        "df = pd. read_csv('/content/drive/MyDrive/Colab Notebooks/CatClassifacation_list.numbers')\n",
        "df_Dates_of_origin = df[df['Family'] >=1860]. copy ()\n",
        "df_since_2000.reset_index (drop=True, inplace=True)"
      ],
      "metadata": {
        "id": "7Z0hzcB4fZcy"
      },
      "execution_count": null,
      "outputs": []
    },
    {
      "cell_type": "code",
      "source": [
        "\"display_data\""
      ],
      "metadata": {
        "id": "IvNLWuKFfrAR"
      },
      "execution_count": null,
      "outputs": []
    },
    {
      "cell_type": "code",
      "source": [
        "#hue = 'year'\\n\",\n",
        "\"import plotly express as px\\n\",\n",
        "\"px.parallel_categories (df_since_2000[[ 'Year', 'Medal', 'Gender']J, color= 'Year' )\"\n"
      ],
      "metadata": {
        "id": "1fJngv0dhFyp"
      },
      "execution_count": null,
      "outputs": []
    },
    {
      "cell_type": "code",
      "source": [
        "import pandas as pd\n",
        "import seaborn as sns\n",
        "import matplotlib.pyplot as plt\n",
        "\n",
        "# create DataFrame\n",
        "df = pd.DataFrame({Eastern_Hemisphere,Western_Hemisphere,Southern_Hemisphere})\n",
        "df.plot(kind='bar', stacked=True, color=['red', 'skyblue', 'green'])\n",
        "\n",
        "# labels for x & y axis\n",
        "plt.xlabel('Subfamily')\n",
        "plt.ylabel('Date of origin')\n",
        "\n",
        "# title of plot\n",
        "plt.title('The Measure of Wild cat species')\n"
      ],
      "metadata": {
        "id": "HtXWuDh7nKs1"
      },
      "execution_count": null,
      "outputs": []
    },
    {
      "cell_type": "code",
      "source": [
        "[\"#Select rows for,Bengal,British_Shorthair,EgyptainMau\"]\n",
        "# Create a stacked bar plot\\n\",\n",
        "\"[\"selected_data[['Family,Subfamily,Genus']].plot(kind='bar',stacked-True, color=['blue', 'red', 'green', 'gray']\n",
        " #Select states to the selected catbreed\n",
        "plt.xticks (range (len (Dates_Origins)), Subfamily) \\n\"\n",
        "\"# Labels for × & y axis\\n\",\n",
        " \"plt.xlabel ('Cat Breed') \\n\n",
        "\"plt.ylabel( 'Dates & Origin)') \\n\",\n",
        "# Title of the plot\\n\",\n",
        "                 pit.title('Wild Cat classifacation list')\n",
        "# Show the plot\\n\",\n",
        "                                 \"plt. show()\"\n"
      ],
      "metadata": {
        "id": "BbsceIcMqycv"
      },
      "execution_count": null,
      "outputs": []
    },
    {
      "cell_type": "code",
      "source": [
        "\"display_data\""
      ],
      "metadata": {
        "id": "k-B-AIaruxCr"
      },
      "execution_count": null,
      "outputs": []
    },
    {
      "cell_type": "code",
      "source": [
        "[\"# Create stacked bar chart for Wild Cat Species \\n\",\n",
        " \"selected_data[['Dates_origin', 'Family', 'Subfamily', 'Genius' ]].plot(kind='bar',stacked=True, color=['blue', 'red', 'green', 'gray'])\\n\",\n",
        " \"\\n\",\n",
        " \"# Set × tick labels to the selected states\\n\",\n",
        " \"pIt.xticks (range (len (cat_breed)), origin) \\n\",\n",
        " \"\\n\",\n",
        " \"# Labels for × & y axis\\n\"\n",
        " \"pIt.xlabel('origin') \\n\",\n",
        " \"plt.ylabel('cat_breed') \\n\",\n",
        " \"\\n\",\n",
        " \"# Title of the plot\\n\",\n",
        " \"pIt. title('Wild Cat Classifacation List') \\n\",\n",
        " \"\\n\",\n",
        " \"# Show the plot\\n\"\n",
        " \"pit.show ()\"]"
      ],
      "metadata": {
        "id": "CceosLNtxZuN"
      },
      "execution_count": null,
      "outputs": []
    },
    {
      "cell_type": "code",
      "source": [
        "null,"
      ],
      "metadata": {
        "id": "jIFNDJffykrq"
      },
      "execution_count": null,
      "outputs": []
    },
    {
      "cell_type": "code",
      "source": [
        "\"display_data\""
      ],
      "metadata": {
        "id": "ikCZ4gdeyllF"
      },
      "execution_count": null,
      "outputs": []
    }
  ]
}